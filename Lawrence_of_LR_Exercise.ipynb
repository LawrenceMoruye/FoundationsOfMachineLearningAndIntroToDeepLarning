{
  "nbformat": 4,
  "nbformat_minor": 0,
  "metadata": {
    "kernelspec": {
      "display_name": "Python 3",
      "language": "python",
      "name": "python3"
    },
    "language_info": {
      "codemirror_mode": {
        "name": "ipython",
        "version": 3
      },
      "file_extension": ".py",
      "mimetype": "text/x-python",
      "name": "python",
      "nbconvert_exporter": "python",
      "pygments_lexer": "ipython3",
      "version": "3.8.5"
    },
    "colab": {
      "name": "Lawrence  of LR_Exercise.ipynb",
      "provenance": []
    }
  },
  "cells": [
    {
      "cell_type": "markdown",
      "metadata": {
        "id": "PcweIxw05mOU"
      },
      "source": [
        "Linear Regression Exercise (Closed Form Solution)"
      ]
    },
    {
      "cell_type": "markdown",
      "metadata": {
        "id": "AhSPtDA_5mOa"
      },
      "source": [
        "In statistics, linear regression is a linear approach to modelling the relationship between a scalar response and one or more explanatory variables (also known as dependent and independent variables) [Wikipedia]. The closed form solution to finding the parameter $\\theta$ of a linear regression model is given by $$\\theta = (X^TX)^{-1}X^TY$$ where X are your features and Y is your target."
      ]
    },
    {
      "cell_type": "code",
      "metadata": {
        "id": "VJkmXdOHiT0n",
        "colab": {
          "base_uri": "https://localhost:8080/"
        },
        "outputId": "953bc2bd-1ad9-4cef-ddad-74d67bc6adf0"
      },
      "source": [
        "from google.colab import drive\n",
        "drive.mount(\"/content/drive\")"
      ],
      "execution_count": null,
      "outputs": [
        {
          "output_type": "stream",
          "text": [
            "Mounted at /content/drive\n"
          ],
          "name": "stdout"
        }
      ]
    },
    {
      "cell_type": "code",
      "metadata": {
        "id": "zGAlN32_iTt5"
      },
      "source": [
        "import pandas as pd \n",
        "df =pd.read_csv(\"/content/drive/MyDrive/AMMI_Lesson1/qsar_aquatic_toxicity.csv\",header=None,sep=\";\")"
      ],
      "execution_count": null,
      "outputs": []
    },
    {
      "cell_type": "code",
      "metadata": {
        "id": "ERqQX2AtiS6d"
      },
      "source": [
        "cols=[\"TPSA(Tot)\",'SAacc',' H-050','MLOGP','RDCHI','GATS1p','nN','C-040','target']\n",
        "df.columns=cols\n"
      ],
      "execution_count": null,
      "outputs": []
    },
    {
      "cell_type": "code",
      "metadata": {
        "colab": {
          "base_uri": "https://localhost:8080/",
          "height": 204
        },
        "id": "5Xult9DqkJsH",
        "outputId": "952aeed4-551b-486f-f22b-c8ca77f3ba8e"
      },
      "source": [
        "df.head()"
      ],
      "execution_count": null,
      "outputs": [
        {
          "output_type": "execute_result",
          "data": {
            "text/html": [
              "<div>\n",
              "<style scoped>\n",
              "    .dataframe tbody tr th:only-of-type {\n",
              "        vertical-align: middle;\n",
              "    }\n",
              "\n",
              "    .dataframe tbody tr th {\n",
              "        vertical-align: top;\n",
              "    }\n",
              "\n",
              "    .dataframe thead th {\n",
              "        text-align: right;\n",
              "    }\n",
              "</style>\n",
              "<table border=\"1\" class=\"dataframe\">\n",
              "  <thead>\n",
              "    <tr style=\"text-align: right;\">\n",
              "      <th></th>\n",
              "      <th>TPSA(Tot)</th>\n",
              "      <th>SAacc</th>\n",
              "      <th>H-050</th>\n",
              "      <th>MLOGP</th>\n",
              "      <th>RDCHI</th>\n",
              "      <th>GATS1p</th>\n",
              "      <th>nN</th>\n",
              "      <th>C-040</th>\n",
              "      <th>target</th>\n",
              "    </tr>\n",
              "  </thead>\n",
              "  <tbody>\n",
              "    <tr>\n",
              "      <th>0</th>\n",
              "      <td>0.00</td>\n",
              "      <td>0.0</td>\n",
              "      <td>0</td>\n",
              "      <td>2.419</td>\n",
              "      <td>1.225</td>\n",
              "      <td>0.667</td>\n",
              "      <td>0</td>\n",
              "      <td>0</td>\n",
              "      <td>3.740</td>\n",
              "    </tr>\n",
              "    <tr>\n",
              "      <th>1</th>\n",
              "      <td>0.00</td>\n",
              "      <td>0.0</td>\n",
              "      <td>0</td>\n",
              "      <td>2.638</td>\n",
              "      <td>1.401</td>\n",
              "      <td>0.632</td>\n",
              "      <td>0</td>\n",
              "      <td>0</td>\n",
              "      <td>4.330</td>\n",
              "    </tr>\n",
              "    <tr>\n",
              "      <th>2</th>\n",
              "      <td>9.23</td>\n",
              "      <td>11.0</td>\n",
              "      <td>0</td>\n",
              "      <td>5.799</td>\n",
              "      <td>2.930</td>\n",
              "      <td>0.486</td>\n",
              "      <td>0</td>\n",
              "      <td>0</td>\n",
              "      <td>7.019</td>\n",
              "    </tr>\n",
              "    <tr>\n",
              "      <th>3</th>\n",
              "      <td>9.23</td>\n",
              "      <td>11.0</td>\n",
              "      <td>0</td>\n",
              "      <td>5.453</td>\n",
              "      <td>2.887</td>\n",
              "      <td>0.495</td>\n",
              "      <td>0</td>\n",
              "      <td>0</td>\n",
              "      <td>6.723</td>\n",
              "    </tr>\n",
              "    <tr>\n",
              "      <th>4</th>\n",
              "      <td>9.23</td>\n",
              "      <td>11.0</td>\n",
              "      <td>0</td>\n",
              "      <td>4.068</td>\n",
              "      <td>2.758</td>\n",
              "      <td>0.695</td>\n",
              "      <td>0</td>\n",
              "      <td>0</td>\n",
              "      <td>5.979</td>\n",
              "    </tr>\n",
              "  </tbody>\n",
              "</table>\n",
              "</div>"
            ],
            "text/plain": [
              "   TPSA(Tot)  SAacc   H-050  MLOGP  RDCHI  GATS1p  nN  C-040  target\n",
              "0       0.00    0.0       0  2.419  1.225   0.667   0      0   3.740\n",
              "1       0.00    0.0       0  2.638  1.401   0.632   0      0   4.330\n",
              "2       9.23   11.0       0  5.799  2.930   0.486   0      0   7.019\n",
              "3       9.23   11.0       0  5.453  2.887   0.495   0      0   6.723\n",
              "4       9.23   11.0       0  4.068  2.758   0.695   0      0   5.979"
            ]
          },
          "metadata": {
            "tags": []
          },
          "execution_count": 4
        }
      ]
    },
    {
      "cell_type": "code",
      "metadata": {
        "id": "RdDazLhlewlL"
      },
      "source": [
        "import numpy as np\n",
        "class LinearReg:\n",
        "  '''\n",
        "  class for Linear Regression Model\n",
        "  '''\n",
        "  def fit(self,X,y):\n",
        "    '''\n",
        "    X :These are the input features\n",
        "    y : These are the corresponding y values of X\n",
        "    '''\n",
        "    X=np.array(X)\n",
        "    y=np.array(y)\n",
        "    firstpart=np.dot(X.T,X)#X transpose * X\n",
        "    firstpart_result =np.linalg.inv(firstpart)#inverse above answer\n",
        "    second=np.dot(X.T,y)#X transpose * y\n",
        "    self.theta= np.dot(firstpart_result,second) # combinne all above to get theta\n",
        "    return self.theta\n",
        "\n",
        "\n",
        "  def predict(self,X):\n",
        "    '''\n",
        "    computes the prediction\n",
        "    X  :Features\n",
        "    '''\n",
        "    X=np.array(X)\n",
        "    result =np.dot(X,self.theta)\n",
        "    return result\n",
        "\n",
        "\n",
        "  def mse(self,y_true,y_pred):\n",
        "    '''\n",
        "    n : number of elements\n",
        "    y_true : actual value of label\n",
        "    y_pred : predicted value of label\n",
        "    '''\n",
        "    n = y_true.shape[0]\n",
        "    return (1/n)*(np.sum(y_true-y_pred)**2)\n"
      ],
      "execution_count": null,
      "outputs": []
    },
    {
      "cell_type": "code",
      "metadata": {
        "id": "X82uLvSs_hlj"
      },
      "source": [
        "A=LinearReg()#initialize our class"
      ],
      "execution_count": null,
      "outputs": []
    },
    {
      "cell_type": "code",
      "metadata": {
        "id": "GtdJQJ_Q7sKe"
      },
      "source": [
        "y=df['target']#label\n",
        "X=df.loc[:, df.columns != 'target']#Features"
      ],
      "execution_count": null,
      "outputs": []
    },
    {
      "cell_type": "code",
      "metadata": {
        "id": "qsgNZISCIjqB"
      },
      "source": [
        "z=A.fit(X,y)#fit the features and corresponding label"
      ],
      "execution_count": null,
      "outputs": []
    },
    {
      "cell_type": "code",
      "metadata": {
        "id": "NAL2aQgaIIVl"
      },
      "source": [
        "res1=A.predict(X)#predictions"
      ],
      "execution_count": null,
      "outputs": []
    },
    {
      "cell_type": "code",
      "metadata": {
        "colab": {
          "base_uri": "https://localhost:8080/"
        },
        "id": "8I-Jg75B8r6e",
        "outputId": "32ede12a-85d7-4861-ba41-4ba5f0e1b70f"
      },
      "source": [
        "A.mse(y,res1)#compute the error"
      ],
      "execution_count": null,
      "outputs": [
        {
          "output_type": "execute_result",
          "data": {
            "text/plain": [
              "7.800044554426762"
            ]
          },
          "metadata": {
            "tags": []
          },
          "execution_count": 63
        }
      ]
    },
    {
      "cell_type": "markdown",
      "metadata": {
        "id": "6JiyueR15mOb"
      },
      "source": [
        "PART A"
      ]
    },
    {
      "cell_type": "markdown",
      "metadata": {
        "id": "ioPdKNju_sFM"
      },
      "source": [
        "You will be implementing this model on a dataset of your choice using <b>numpy</b>.\n",
        "\n",
        "Steps\n",
        "\n",
        "1. Get any interesting dataset online. You can use this dataset repo [mcu dataset](https://archive.ics.uci.edu/ml/datasets.php). We will try to predict one of the features with continuous values. Set the continuous variable as your target column and other columns as your features i.e divide your dataset into $X$ and $y$.\n",
        "Hint: download the dataset and use pandas to load the data into your environment. You should be familiar with this already.\n",
        "2. We will bypass the step of exploring your data and assume that your data $(X, y)$ is linearly separable.\n",
        "3. Create a class called LinearReg: \n",
        "    - the \\_\\_init\\_\\_ constructor will take hyperparameters for the model class. **Ignore this for this exercise as you do not currently have any hyperparameters**\n",
        "    - the class will have two major methods **\"fit\"** and **\"predict\"**.\n",
        "    - the fit method takes as input $X$ and $y$, and calculates $\\theta$ using the formula above. Make sure you save $\\theta$ in as a **class variable** after calculation.\n",
        "    -  the predict function takes in $X$ and returns predictions as $\\hat{y}$. Use the same data $X$ for prediction. Do not worry of overfitting the model at this point.\n",
        "        $$\\hat{Y}=X\\theta$$\n",
        "4. Next create a static method in your class, called **\"rmse\"** that takes in the original target **y** and your predictions **\\hat{y}**, and uses them to calculate the mean square error in prediction (MSE). MSE is computed as;\n",
        "$$MSE = \\sum{(y - \\hat{y})^2} $$\n",
        "The MSE helps us to know how well we were able to model the data. Lower MSE is always better.\n",
        "5. Run your linear regression model"
      ]
    },
    {
      "cell_type": "markdown",
      "metadata": {
        "id": "dcWAJpJ85mOc"
      },
      "source": [
        "To run your model\n",
        "1. Instantiate the model class, model = LinearReg()\n",
        "2. Run model.fit() with $(X, y)$ as arguments\n",
        "3. Run $\\hat{y}$ = model.predict() with $X$ as argument\n",
        "4. Compare the predictions to the target with model.rmse(y, $\\hat{y})$ . What is the rmse value?"
      ]
    },
    {
      "cell_type": "markdown",
      "metadata": {
        "id": "xRA9aAvr5mOd"
      },
      "source": [
        "PART B"
      ]
    },
    {
      "cell_type": "markdown",
      "metadata": {
        "id": "yaUU78xJ5mOd"
      },
      "source": [
        "Well, we have some bugs in our code and this next section will help to fix that. Linear regression models usually have a zeroth parameter, $\\theta_0$ which helps to model the \"bias\" and gives an extra degree of freedom to the model. To fix this, we do the following.\n",
        "\n",
        "5. Create a function, called **\"add_ones\"** which takes in $X$ and returns an augmented version where 1s have been concatenated with X. This implies that a new column is added to $X$ which contain ones. Call this new augmented data, $X_{new}$. The function should return $X_{new}$. Note that $X_{new}$ has one column more than $X$.\n",
        "6. Edit your fit method **to add ones** to $X$ to make $X_{new}$ before computing $\\theta$ in your code.\n",
        "7. Now, calculate the $MSE$ for your predictions using this $X_{new}$. \n",
        "\n",
        "- Is it better than the previous MSE you got? Give any reason why it is better or not better."
      ]
    },
    {
      "cell_type": "markdown",
      "metadata": {
        "id": "oNWyY0hn5mOd"
      },
      "source": [
        ""
      ]
    },
    {
      "cell_type": "code",
      "metadata": {
        "id": "e6HNweBNKLz1"
      },
      "source": [
        "import numpy as np\n",
        "class LinearReg:\n",
        "  '''\n",
        "  class for Linear Regression Model\n",
        "  '''\n",
        "  def fit(self,X,y):\n",
        "    '''\n",
        "    X :These are the input features\n",
        "    y : These are the corresponding y values of X\n",
        "    firstpart :X transpose times X\n",
        "    firstpart_result : inverse of firstpart\n",
        "    second : X transpose y\n",
        "    theta :dot product firstpart_result and second\n",
        "    \n",
        "    '''\n",
        "    X=np.array(X)\n",
        "    y=np.array(y)\n",
        "    firstpart=np.dot(X.T,X)#X transpose * X\n",
        "    firstpart_result =np.linalg.inv(firstpart)#inverse above answer\n",
        "    second=np.dot(X.T,y)#X transpose * y\n",
        "    self.theta= np.dot(firstpart_result,second) # combinne all above to get theta\n",
        "    return self.theta\n",
        "\n",
        "\n",
        "  def predict(self,X):\n",
        "    '''\n",
        "    Takes in features and gives out predictions\n",
        "    '''\n",
        "\n",
        "    X=np.array(X)\n",
        "    result =np.dot(X,self.theta)\n",
        "    return result\n",
        "\n",
        "\n",
        "  def mse(self,y_true,y_pred):\n",
        "    '''\n",
        "    takes in actual labela snd predictions and computes the error\n",
        "    '''\n",
        "    n = y_true.shape[0]\n",
        "    return (1/n*(np.sum(y_true-y_pred)**2))\n",
        "\n",
        "  def add_ones(self,X):\n",
        "    '''\n",
        "    Adds a column of ones\n",
        "    '''\n",
        "    X=np.array(X)\n",
        "    X_new=np.c_[np.ones(X.shape[0]),X]\n",
        "    return X_new\n",
        "\n"
      ],
      "execution_count": null,
      "outputs": []
    },
    {
      "cell_type": "code",
      "metadata": {
        "id": "Kp9Cxht1K-Qi"
      },
      "source": [
        "A=LinearReg()"
      ],
      "execution_count": null,
      "outputs": []
    },
    {
      "cell_type": "code",
      "metadata": {
        "id": "UVzfiiV0LcEz"
      },
      "source": [
        "new_X=A.add_ones(X)"
      ],
      "execution_count": null,
      "outputs": []
    },
    {
      "cell_type": "code",
      "metadata": {
        "id": "ULxwdMnoK-We"
      },
      "source": [
        "\n",
        "z=A.fit(new_X,y)"
      ],
      "execution_count": null,
      "outputs": []
    },
    {
      "cell_type": "code",
      "metadata": {
        "id": "vmWXUrwaLf8I"
      },
      "source": [
        "res2=A.predict(new_X)"
      ],
      "execution_count": null,
      "outputs": []
    },
    {
      "cell_type": "code",
      "metadata": {
        "id": "ZEGdWQrRLf_8"
      },
      "source": [
        "error=A.mse(y,res2)"
      ],
      "execution_count": null,
      "outputs": []
    },
    {
      "cell_type": "code",
      "metadata": {
        "colab": {
          "base_uri": "https://localhost:8080/"
        },
        "id": "9WzLQG2QLgEc",
        "outputId": "c3ca5633-ec85-434b-f2d3-b8d4f97f6fa2"
      },
      "source": [
        "error"
      ],
      "execution_count": null,
      "outputs": [
        {
          "output_type": "execute_result",
          "data": {
            "text/plain": [
              "4.2756838983055925e-28"
            ]
          },
          "metadata": {
            "tags": []
          },
          "execution_count": 77
        }
      ]
    },
    {
      "cell_type": "code",
      "metadata": {
        "colab": {
          "base_uri": "https://localhost:8080/"
        },
        "id": "kELUsHy3PZTE",
        "outputId": "255386b9-760b-4664-aa42-d2792106c79b"
      },
      "source": [
        "round(error,5)"
      ],
      "execution_count": null,
      "outputs": [
        {
          "output_type": "execute_result",
          "data": {
            "text/plain": [
              "0.0"
            ]
          },
          "metadata": {
            "tags": []
          },
          "execution_count": 78
        }
      ]
    },
    {
      "cell_type": "code",
      "metadata": {
        "id": "o86HnzhTPcQy"
      },
      "source": [
        ""
      ],
      "execution_count": null,
      "outputs": []
    },
    {
      "cell_type": "markdown",
      "metadata": {
        "id": "LL9uWoUMQBFQ"
      },
      "source": [
        "**Conclussion**\n",
        "\n",
        "The new mse is far better than the previous mse.This is because we added the vector of ones(new column) which acts as a fake feature that helped us find the intercept unlike in our first step only where  the parameters associated with the features were returned."
      ]
    },
    {
      "cell_type": "code",
      "metadata": {
        "id": "Y96vT0sRRABl"
      },
      "source": [
        ""
      ],
      "execution_count": null,
      "outputs": []
    }
  ]
}