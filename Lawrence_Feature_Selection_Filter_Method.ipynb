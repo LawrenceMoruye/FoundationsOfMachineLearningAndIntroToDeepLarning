{
  "nbformat": 4,
  "nbformat_minor": 0,
  "metadata": {
    "kernelspec": {
      "display_name": "Python 3",
      "language": "python",
      "name": "python3"
    },
    "language_info": {
      "codemirror_mode": {
        "name": "ipython",
        "version": 3
      },
      "file_extension": ".py",
      "mimetype": "text/x-python",
      "name": "python",
      "nbconvert_exporter": "python",
      "pygments_lexer": "ipython3",
      "version": "3.6.9"
    },
    "colab": {
      "name": "Lawrence_Feature Selection Filter Method.ipynb",
      "provenance": [],
      "collapsed_sections": [],
      "toc_visible": true
    }
  },
  "cells": [
    {
      "cell_type": "markdown",
      "metadata": {
        "id": "GylEW1ujkXZY"
      },
      "source": [
        "<a href='https://aims-senegal.org/'> <img src='http://sn.nexteinstein.org/wp-content/uploads/sites/12/2016/07/aims_senegal.jpg' /></a>"
      ]
    },
    {
      "cell_type": "markdown",
      "metadata": {
        "id": "krRDOUOQkcUL"
      },
      "source": [
        "# **Feature Selection: Filter Method**\n",
        "\n",
        "In this notebook we look into the problem of feature selection, in which we have a large pool of ***d*** features and our goal is to select a small number of features ***k*** that will be used by our model. So our goal is to learn a model that only relies on ***k << d*** features.\n",
        "\n",
        "\n",
        "\n",
        "## **Why do we do feature selection ?**\n",
        "Models that use only a small subset of features require a\n",
        "smaller memory footprint and can be applied faster. Furthermore, in applications such as medical diagnostics, obtaining each possible “feature” (e.g., test result) can be costly; therefore, a model that uses only a small number of features is desirable even at the cost of a small degradation in performance, relative to a model that uses more features.\n",
        "\n",
        "\n",
        "## **How do we do feature selection ?**\n",
        "\n",
        "Ideally, we could have tried all subsets of ***k*** out of ***d*** features and choose the subset which leads to the best performing model (using cross validation). However, such an exhaustive search is usually computationally intractable.\n",
        "\n",
        "\n",
        "## **Feature selection methods:**\n",
        "\n",
        "Moustapha covered 3 computationally feasible approaches for feature selection: L1 Regularization, Wrapper (Greedy) Methods (Forward Search & Backward Elimination) and Filter Method. While these methods\n",
        "cannot guarantee finding the optimal subset, they often work reasonably well in practice.\n",
        "\n",
        "## **Filter Method**\n",
        "One of the simplest approach for feature selection is the filter method, in which we assess individual features, independently of other features, according to some quality measure. We can then select the ***k*** features that achieve the highest score (alternatively, we can decide on the number of features to select according to the value of their scores).\n",
        "\n",
        "Many quality measures for features have been proposed in the literature. We will use [Mutual Information](https://en.wikipedia.org/wiki/Mutual_information) between the feature and the target as our measure of feature quality. Mutual information between a pair of random variables ***X*** and ***Y*** is defined as:\n",
        "\n",
        "<img src='https://wikimedia.org/api/rest_v1/media/math/render/svg/4b37af4015d70867b9c50b9cf82e0fc3598b070c' />\n",
        "\n",
        "Mutual information (MI) between two random variables is a non-negative value, which measures the dependency between the variables. It is equal to zero if and only if two random variables are independent, and higher values mean higher dependency.\n",
        "\n",
        "Where D<sub>KL</sub> is the [Kullback Leibler Divergence](https://en.wikipedia.org/wiki/Kullback%E2%80%93Leibler_divergence) which is a measure of how one probability distribution is different from another. \n"
      ]
    },
    {
      "cell_type": "markdown",
      "metadata": {
        "id": "-oG0KTmEtR_d"
      },
      "source": [
        "---\n",
        "---\n",
        "---\n",
        "---\n",
        "---"
      ]
    },
    {
      "cell_type": "code",
      "metadata": {
        "colab": {
          "base_uri": "https://localhost:8080/"
        },
        "id": "CHgjySguafCA",
        "outputId": "03ff8132-91c7-4f75-ea79-0e4f51a84ae2"
      },
      "source": [
        "from google.colab import drive\n",
        "drive.mount(\"/content/drive\")"
      ],
      "execution_count": null,
      "outputs": [
        {
          "output_type": "stream",
          "text": [
            "Mounted at /content/drive\n"
          ],
          "name": "stdout"
        }
      ]
    },
    {
      "cell_type": "markdown",
      "metadata": {
        "id": "ICe7NMjrtVtk"
      },
      "source": [
        "## **Setup Code**"
      ]
    },
    {
      "cell_type": "code",
      "metadata": {
        "id": "kG32sMnmC28w"
      },
      "source": [
        "import numpy as np\n",
        "import pandas as pd\n",
        "import matplotlib.pyplot as plt\n",
        "\n",
        "from sklearn import linear_model\n",
        "from sklearn.preprocessing import StandardScaler, normalize\n",
        "from sklearn.model_selection import cross_val_score, train_test_split, KFold \n",
        "from sklearn.metrics import mean_squared_error\n",
        "from sklearn.feature_selection import mutual_info_regression"
      ],
      "execution_count": null,
      "outputs": []
    },
    {
      "cell_type": "markdown",
      "metadata": {
        "id": "9VncX6pntkd3"
      },
      "source": [
        "---\n",
        "---\n",
        "---\n",
        "---\n",
        "---"
      ]
    },
    {
      "cell_type": "markdown",
      "metadata": {
        "id": "G7lqZJ9LC28x"
      },
      "source": [
        "## **Data** \n",
        "\n",
        "We will experiment **again** with cancer mortality rates dataset from [here](https://data.world/nrippner/ols-regression-challenge). A slightly modified copy was shared with you on workplace a few days ago. Please Load the data \"cancer-mortality-rate.csv\" to your runtime or mount your drive and load it. The target is the column named **\"TARGET_deathRate\"**."
      ]
    },
    {
      "cell_type": "code",
      "metadata": {
        "scrolled": true,
        "id": "skvkVdyNC28x",
        "colab": {
          "base_uri": "https://localhost:8080/",
          "height": 261
        },
        "outputId": "8efd732b-e2bb-4b78-c9f3-a0deb698aae6"
      },
      "source": [
        "data = pd.read_csv('/content/drive/MyDrive/Feature_selection/cancer-mortality-rate.csv', index_col=0)\n",
        "data.head()"
      ],
      "execution_count": null,
      "outputs": [
        {
          "output_type": "execute_result",
          "data": {
            "text/html": [
              "<div>\n",
              "<style scoped>\n",
              "    .dataframe tbody tr th:only-of-type {\n",
              "        vertical-align: middle;\n",
              "    }\n",
              "\n",
              "    .dataframe tbody tr th {\n",
              "        vertical-align: top;\n",
              "    }\n",
              "\n",
              "    .dataframe thead th {\n",
              "        text-align: right;\n",
              "    }\n",
              "</style>\n",
              "<table border=\"1\" class=\"dataframe\">\n",
              "  <thead>\n",
              "    <tr style=\"text-align: right;\">\n",
              "      <th></th>\n",
              "      <th>avgAnnCount</th>\n",
              "      <th>avgDeathsPerYear</th>\n",
              "      <th>TARGET_deathRate</th>\n",
              "      <th>incidenceRate</th>\n",
              "      <th>medIncome</th>\n",
              "      <th>popEst2015</th>\n",
              "      <th>povertyPercent</th>\n",
              "      <th>studyPerCap</th>\n",
              "      <th>MedianAge</th>\n",
              "      <th>MedianAgeMale</th>\n",
              "      <th>MedianAgeFemale</th>\n",
              "      <th>AvgHouseholdSize</th>\n",
              "      <th>PercentMarried</th>\n",
              "      <th>PctNoHS18_24</th>\n",
              "      <th>PctHS18_24</th>\n",
              "      <th>PctSomeCol18_24</th>\n",
              "      <th>PctBachDeg18_24</th>\n",
              "      <th>PctHS25_Over</th>\n",
              "      <th>PctBachDeg25_Over</th>\n",
              "      <th>PctEmployed16_Over</th>\n",
              "      <th>PctUnemployed16_Over</th>\n",
              "      <th>PctPrivateCoverage</th>\n",
              "      <th>PctPrivateCoverageAlone</th>\n",
              "      <th>PctEmpPrivCoverage</th>\n",
              "      <th>PctPublicCoverage</th>\n",
              "      <th>PctPublicCoverageAlone</th>\n",
              "      <th>PctWhite</th>\n",
              "      <th>PctBlack</th>\n",
              "      <th>PctAsian</th>\n",
              "      <th>PctOtherRace</th>\n",
              "      <th>PctMarriedHouseholds</th>\n",
              "      <th>BirthRate</th>\n",
              "      <th>avgAnnCount-2</th>\n",
              "      <th>avgAnnCount-3</th>\n",
              "      <th>avgAnnCount-4</th>\n",
              "      <th>avgAnnCount-5</th>\n",
              "      <th>avgAnnCount-6</th>\n",
              "      <th>avgAnnCount-7</th>\n",
              "      <th>avgAnnCount-8</th>\n",
              "      <th>avgAnnCount-9</th>\n",
              "      <th>...</th>\n",
              "      <th>PctBlack-2</th>\n",
              "      <th>PctBlack-3</th>\n",
              "      <th>PctBlack-4</th>\n",
              "      <th>PctBlack-5</th>\n",
              "      <th>PctBlack-6</th>\n",
              "      <th>PctBlack-7</th>\n",
              "      <th>PctBlack-8</th>\n",
              "      <th>PctBlack-9</th>\n",
              "      <th>PctAsian-2</th>\n",
              "      <th>PctAsian-3</th>\n",
              "      <th>PctAsian-4</th>\n",
              "      <th>PctAsian-5</th>\n",
              "      <th>PctAsian-6</th>\n",
              "      <th>PctAsian-7</th>\n",
              "      <th>PctAsian-8</th>\n",
              "      <th>PctAsian-9</th>\n",
              "      <th>PctOtherRace-2</th>\n",
              "      <th>PctOtherRace-3</th>\n",
              "      <th>PctOtherRace-4</th>\n",
              "      <th>PctOtherRace-5</th>\n",
              "      <th>PctOtherRace-6</th>\n",
              "      <th>PctOtherRace-7</th>\n",
              "      <th>PctOtherRace-8</th>\n",
              "      <th>PctOtherRace-9</th>\n",
              "      <th>PctMarriedHouseholds-2</th>\n",
              "      <th>PctMarriedHouseholds-3</th>\n",
              "      <th>PctMarriedHouseholds-4</th>\n",
              "      <th>PctMarriedHouseholds-5</th>\n",
              "      <th>PctMarriedHouseholds-6</th>\n",
              "      <th>PctMarriedHouseholds-7</th>\n",
              "      <th>PctMarriedHouseholds-8</th>\n",
              "      <th>PctMarriedHouseholds-9</th>\n",
              "      <th>BirthRate-2</th>\n",
              "      <th>BirthRate-3</th>\n",
              "      <th>BirthRate-4</th>\n",
              "      <th>BirthRate-5</th>\n",
              "      <th>BirthRate-6</th>\n",
              "      <th>BirthRate-7</th>\n",
              "      <th>BirthRate-8</th>\n",
              "      <th>BirthRate-9</th>\n",
              "    </tr>\n",
              "  </thead>\n",
              "  <tbody>\n",
              "    <tr>\n",
              "      <th>0</th>\n",
              "      <td>1397.0</td>\n",
              "      <td>469</td>\n",
              "      <td>164.9</td>\n",
              "      <td>489.8</td>\n",
              "      <td>61898</td>\n",
              "      <td>260131</td>\n",
              "      <td>11.2</td>\n",
              "      <td>499.748204</td>\n",
              "      <td>39.3</td>\n",
              "      <td>36.9</td>\n",
              "      <td>41.7</td>\n",
              "      <td>2.54</td>\n",
              "      <td>52.5</td>\n",
              "      <td>11.5</td>\n",
              "      <td>39.5</td>\n",
              "      <td>42.1</td>\n",
              "      <td>6.9</td>\n",
              "      <td>23.2</td>\n",
              "      <td>19.6</td>\n",
              "      <td>51.9</td>\n",
              "      <td>8.0</td>\n",
              "      <td>75.1</td>\n",
              "      <td>NaN</td>\n",
              "      <td>41.6</td>\n",
              "      <td>32.9</td>\n",
              "      <td>14.0</td>\n",
              "      <td>81.780529</td>\n",
              "      <td>2.594728</td>\n",
              "      <td>4.821857</td>\n",
              "      <td>1.843479</td>\n",
              "      <td>52.856076</td>\n",
              "      <td>6.118831</td>\n",
              "      <td>1951609.0</td>\n",
              "      <td>2.726398e+09</td>\n",
              "      <td>3.808778e+12</td>\n",
              "      <td>5.320862e+15</td>\n",
              "      <td>7.433245e+18</td>\n",
              "      <td>1.038424e+22</td>\n",
              "      <td>1.450679e+25</td>\n",
              "      <td>2.026598e+28</td>\n",
              "      <td>...</td>\n",
              "      <td>6.732615</td>\n",
              "      <td>17.469307</td>\n",
              "      <td>45.328106</td>\n",
              "      <td>117.614122</td>\n",
              "      <td>305.176694</td>\n",
              "      <td>791.850616</td>\n",
              "      <td>2054.637228</td>\n",
              "      <td>5331.225430</td>\n",
              "      <td>23.250306</td>\n",
              "      <td>112.109653</td>\n",
              "      <td>540.576725</td>\n",
              "      <td>2606.583721</td>\n",
              "      <td>12568.574225</td>\n",
              "      <td>60603.868891</td>\n",
              "      <td>292223.195619</td>\n",
              "      <td>1.409058e+06</td>\n",
              "      <td>3.398413</td>\n",
              "      <td>6.264902</td>\n",
              "      <td>11.549212</td>\n",
              "      <td>21.290724</td>\n",
              "      <td>39.248992</td>\n",
              "      <td>72.354674</td>\n",
              "      <td>133.384289</td>\n",
              "      <td>245.891073</td>\n",
              "      <td>2793.764757</td>\n",
              "      <td>147667.442010</td>\n",
              "      <td>7.805122e+06</td>\n",
              "      <td>4.125481e+08</td>\n",
              "      <td>2.180567e+10</td>\n",
              "      <td>1.152562e+12</td>\n",
              "      <td>6.091992e+13</td>\n",
              "      <td>3.219988e+15</td>\n",
              "      <td>37.440093</td>\n",
              "      <td>229.089604</td>\n",
              "      <td>1401.760576</td>\n",
              "      <td>8577.136107</td>\n",
              "      <td>52482.046553</td>\n",
              "      <td>321128.774915</td>\n",
              "      <td>1.964933e+06</td>\n",
              "      <td>1.202309e+07</td>\n",
              "    </tr>\n",
              "    <tr>\n",
              "      <th>1</th>\n",
              "      <td>173.0</td>\n",
              "      <td>70</td>\n",
              "      <td>161.3</td>\n",
              "      <td>411.6</td>\n",
              "      <td>48127</td>\n",
              "      <td>43269</td>\n",
              "      <td>18.6</td>\n",
              "      <td>23.111234</td>\n",
              "      <td>33.0</td>\n",
              "      <td>32.2</td>\n",
              "      <td>33.7</td>\n",
              "      <td>2.34</td>\n",
              "      <td>44.5</td>\n",
              "      <td>6.1</td>\n",
              "      <td>22.4</td>\n",
              "      <td>64.0</td>\n",
              "      <td>7.5</td>\n",
              "      <td>26.0</td>\n",
              "      <td>22.7</td>\n",
              "      <td>55.9</td>\n",
              "      <td>7.8</td>\n",
              "      <td>70.2</td>\n",
              "      <td>53.8</td>\n",
              "      <td>43.6</td>\n",
              "      <td>31.1</td>\n",
              "      <td>15.3</td>\n",
              "      <td>89.228509</td>\n",
              "      <td>0.969102</td>\n",
              "      <td>2.246233</td>\n",
              "      <td>3.741352</td>\n",
              "      <td>45.372500</td>\n",
              "      <td>4.333096</td>\n",
              "      <td>29929.0</td>\n",
              "      <td>5.177717e+06</td>\n",
              "      <td>8.957450e+08</td>\n",
              "      <td>1.549639e+11</td>\n",
              "      <td>2.680875e+13</td>\n",
              "      <td>4.637914e+15</td>\n",
              "      <td>8.023592e+17</td>\n",
              "      <td>1.388081e+20</td>\n",
              "      <td>...</td>\n",
              "      <td>0.939160</td>\n",
              "      <td>0.910142</td>\n",
              "      <td>0.882021</td>\n",
              "      <td>0.854768</td>\n",
              "      <td>0.828358</td>\n",
              "      <td>0.802764</td>\n",
              "      <td>0.777961</td>\n",
              "      <td>0.753923</td>\n",
              "      <td>5.045561</td>\n",
              "      <td>11.333503</td>\n",
              "      <td>25.457684</td>\n",
              "      <td>57.183879</td>\n",
              "      <td>128.448293</td>\n",
              "      <td>288.524742</td>\n",
              "      <td>648.093677</td>\n",
              "      <td>1.455769e+03</td>\n",
              "      <td>13.997711</td>\n",
              "      <td>52.370359</td>\n",
              "      <td>195.935921</td>\n",
              "      <td>733.065158</td>\n",
              "      <td>2742.654452</td>\n",
              "      <td>10261.234432</td>\n",
              "      <td>38390.885152</td>\n",
              "      <td>143633.796942</td>\n",
              "      <td>2058.663796</td>\n",
              "      <td>93406.723998</td>\n",
              "      <td>4.238097e+06</td>\n",
              "      <td>1.922930e+08</td>\n",
              "      <td>8.724816e+09</td>\n",
              "      <td>3.958667e+11</td>\n",
              "      <td>1.796146e+13</td>\n",
              "      <td>8.149565e+14</td>\n",
              "      <td>18.775717</td>\n",
              "      <td>81.356978</td>\n",
              "      <td>352.527560</td>\n",
              "      <td>1527.535610</td>\n",
              "      <td>6618.957797</td>\n",
              "      <td>28680.576760</td>\n",
              "      <td>1.242757e+05</td>\n",
              "      <td>5.384984e+05</td>\n",
              "    </tr>\n",
              "    <tr>\n",
              "      <th>2</th>\n",
              "      <td>102.0</td>\n",
              "      <td>50</td>\n",
              "      <td>174.7</td>\n",
              "      <td>349.7</td>\n",
              "      <td>49348</td>\n",
              "      <td>21026</td>\n",
              "      <td>14.6</td>\n",
              "      <td>47.560164</td>\n",
              "      <td>45.0</td>\n",
              "      <td>44.0</td>\n",
              "      <td>45.8</td>\n",
              "      <td>2.62</td>\n",
              "      <td>54.2</td>\n",
              "      <td>24.0</td>\n",
              "      <td>36.6</td>\n",
              "      <td>NaN</td>\n",
              "      <td>9.5</td>\n",
              "      <td>29.0</td>\n",
              "      <td>16.0</td>\n",
              "      <td>45.9</td>\n",
              "      <td>7.0</td>\n",
              "      <td>63.7</td>\n",
              "      <td>43.5</td>\n",
              "      <td>34.9</td>\n",
              "      <td>42.1</td>\n",
              "      <td>21.1</td>\n",
              "      <td>90.922190</td>\n",
              "      <td>0.739673</td>\n",
              "      <td>0.465898</td>\n",
              "      <td>2.747358</td>\n",
              "      <td>54.444868</td>\n",
              "      <td>3.729488</td>\n",
              "      <td>10404.0</td>\n",
              "      <td>1.061208e+06</td>\n",
              "      <td>1.082432e+08</td>\n",
              "      <td>1.104081e+10</td>\n",
              "      <td>1.126162e+12</td>\n",
              "      <td>1.148686e+14</td>\n",
              "      <td>1.171659e+16</td>\n",
              "      <td>1.195093e+18</td>\n",
              "      <td>...</td>\n",
              "      <td>0.547117</td>\n",
              "      <td>0.404688</td>\n",
              "      <td>0.299337</td>\n",
              "      <td>0.221411</td>\n",
              "      <td>0.163772</td>\n",
              "      <td>0.121138</td>\n",
              "      <td>0.089602</td>\n",
              "      <td>0.066277</td>\n",
              "      <td>0.217061</td>\n",
              "      <td>0.101128</td>\n",
              "      <td>0.047116</td>\n",
              "      <td>0.021951</td>\n",
              "      <td>0.010227</td>\n",
              "      <td>0.004765</td>\n",
              "      <td>0.002220</td>\n",
              "      <td>1.034235e-03</td>\n",
              "      <td>7.547978</td>\n",
              "      <td>20.736999</td>\n",
              "      <td>56.971967</td>\n",
              "      <td>156.522407</td>\n",
              "      <td>430.023135</td>\n",
              "      <td>1181.427634</td>\n",
              "      <td>3245.805027</td>\n",
              "      <td>8917.389410</td>\n",
              "      <td>2964.243692</td>\n",
              "      <td>161387.857618</td>\n",
              "      <td>8.786741e+06</td>\n",
              "      <td>4.783929e+08</td>\n",
              "      <td>2.604604e+10</td>\n",
              "      <td>1.418073e+12</td>\n",
              "      <td>7.720681e+13</td>\n",
              "      <td>4.203515e+15</td>\n",
              "      <td>13.909079</td>\n",
              "      <td>51.873742</td>\n",
              "      <td>193.462489</td>\n",
              "      <td>721.515996</td>\n",
              "      <td>2690.885118</td>\n",
              "      <td>10035.623263</td>\n",
              "      <td>3.742773e+04</td>\n",
              "      <td>1.395863e+05</td>\n",
              "    </tr>\n",
              "    <tr>\n",
              "      <th>3</th>\n",
              "      <td>427.0</td>\n",
              "      <td>202</td>\n",
              "      <td>194.8</td>\n",
              "      <td>430.4</td>\n",
              "      <td>44243</td>\n",
              "      <td>75882</td>\n",
              "      <td>17.1</td>\n",
              "      <td>342.637253</td>\n",
              "      <td>42.8</td>\n",
              "      <td>42.2</td>\n",
              "      <td>43.4</td>\n",
              "      <td>2.52</td>\n",
              "      <td>52.7</td>\n",
              "      <td>20.2</td>\n",
              "      <td>41.2</td>\n",
              "      <td>36.1</td>\n",
              "      <td>2.5</td>\n",
              "      <td>31.6</td>\n",
              "      <td>9.3</td>\n",
              "      <td>48.3</td>\n",
              "      <td>12.1</td>\n",
              "      <td>58.4</td>\n",
              "      <td>40.3</td>\n",
              "      <td>35.0</td>\n",
              "      <td>45.3</td>\n",
              "      <td>25.0</td>\n",
              "      <td>91.744686</td>\n",
              "      <td>0.782626</td>\n",
              "      <td>1.161359</td>\n",
              "      <td>1.362643</td>\n",
              "      <td>51.021514</td>\n",
              "      <td>4.603841</td>\n",
              "      <td>182329.0</td>\n",
              "      <td>7.785448e+07</td>\n",
              "      <td>3.324386e+10</td>\n",
              "      <td>1.419513e+13</td>\n",
              "      <td>6.061321e+15</td>\n",
              "      <td>2.588184e+18</td>\n",
              "      <td>1.105155e+21</td>\n",
              "      <td>4.719010e+23</td>\n",
              "      <td>...</td>\n",
              "      <td>0.612503</td>\n",
              "      <td>0.479361</td>\n",
              "      <td>0.375160</td>\n",
              "      <td>0.293610</td>\n",
              "      <td>0.229787</td>\n",
              "      <td>0.179837</td>\n",
              "      <td>0.140745</td>\n",
              "      <td>0.110151</td>\n",
              "      <td>1.348754</td>\n",
              "      <td>1.566387</td>\n",
              "      <td>1.819137</td>\n",
              "      <td>2.112671</td>\n",
              "      <td>2.453569</td>\n",
              "      <td>2.849473</td>\n",
              "      <td>3.309260</td>\n",
              "      <td>3.843238e+00</td>\n",
              "      <td>1.856796</td>\n",
              "      <td>2.530151</td>\n",
              "      <td>3.447693</td>\n",
              "      <td>4.697975</td>\n",
              "      <td>6.401664</td>\n",
              "      <td>8.723184</td>\n",
              "      <td>11.886587</td>\n",
              "      <td>16.197177</td>\n",
              "      <td>2603.194940</td>\n",
              "      <td>132818.948317</td>\n",
              "      <td>6.776624e+06</td>\n",
              "      <td>3.457536e+08</td>\n",
              "      <td>1.764087e+10</td>\n",
              "      <td>9.000641e+11</td>\n",
              "      <td>4.592263e+13</td>\n",
              "      <td>2.343042e+15</td>\n",
              "      <td>21.195350</td>\n",
              "      <td>97.580016</td>\n",
              "      <td>449.242856</td>\n",
              "      <td>2068.242577</td>\n",
              "      <td>9521.859503</td>\n",
              "      <td>43837.125013</td>\n",
              "      <td>2.018191e+05</td>\n",
              "      <td>9.291432e+05</td>\n",
              "    </tr>\n",
              "    <tr>\n",
              "      <th>4</th>\n",
              "      <td>57.0</td>\n",
              "      <td>26</td>\n",
              "      <td>144.4</td>\n",
              "      <td>350.1</td>\n",
              "      <td>49955</td>\n",
              "      <td>10321</td>\n",
              "      <td>12.5</td>\n",
              "      <td>0.000000</td>\n",
              "      <td>48.3</td>\n",
              "      <td>47.8</td>\n",
              "      <td>48.9</td>\n",
              "      <td>2.34</td>\n",
              "      <td>57.8</td>\n",
              "      <td>14.9</td>\n",
              "      <td>43.0</td>\n",
              "      <td>40.0</td>\n",
              "      <td>2.0</td>\n",
              "      <td>33.4</td>\n",
              "      <td>15.0</td>\n",
              "      <td>48.2</td>\n",
              "      <td>4.8</td>\n",
              "      <td>61.6</td>\n",
              "      <td>43.9</td>\n",
              "      <td>35.1</td>\n",
              "      <td>44.0</td>\n",
              "      <td>22.7</td>\n",
              "      <td>94.104024</td>\n",
              "      <td>0.270192</td>\n",
              "      <td>0.665830</td>\n",
              "      <td>0.492135</td>\n",
              "      <td>54.027460</td>\n",
              "      <td>6.796657</td>\n",
              "      <td>3249.0</td>\n",
              "      <td>1.851930e+05</td>\n",
              "      <td>1.055600e+07</td>\n",
              "      <td>6.016921e+08</td>\n",
              "      <td>3.429645e+10</td>\n",
              "      <td>1.954897e+12</td>\n",
              "      <td>1.114292e+14</td>\n",
              "      <td>6.351462e+15</td>\n",
              "      <td>...</td>\n",
              "      <td>0.073004</td>\n",
              "      <td>0.019725</td>\n",
              "      <td>0.005330</td>\n",
              "      <td>0.001440</td>\n",
              "      <td>0.000389</td>\n",
              "      <td>0.000105</td>\n",
              "      <td>0.000028</td>\n",
              "      <td>0.000008</td>\n",
              "      <td>0.443330</td>\n",
              "      <td>0.295183</td>\n",
              "      <td>0.196542</td>\n",
              "      <td>0.130863</td>\n",
              "      <td>0.087133</td>\n",
              "      <td>0.058016</td>\n",
              "      <td>0.038629</td>\n",
              "      <td>2.572008e-02</td>\n",
              "      <td>0.242197</td>\n",
              "      <td>0.119194</td>\n",
              "      <td>0.058660</td>\n",
              "      <td>0.028868</td>\n",
              "      <td>0.014207</td>\n",
              "      <td>0.006992</td>\n",
              "      <td>0.003441</td>\n",
              "      <td>0.001693</td>\n",
              "      <td>2918.966429</td>\n",
              "      <td>157704.341819</td>\n",
              "      <td>8.520365e+06</td>\n",
              "      <td>4.603337e+08</td>\n",
              "      <td>2.487066e+10</td>\n",
              "      <td>1.343699e+12</td>\n",
              "      <td>7.259662e+13</td>\n",
              "      <td>3.922211e+15</td>\n",
              "      <td>46.194552</td>\n",
              "      <td>313.968540</td>\n",
              "      <td>2133.936595</td>\n",
              "      <td>14503.635908</td>\n",
              "      <td>98576.244063</td>\n",
              "      <td>669988.956897</td>\n",
              "      <td>4.553685e+06</td>\n",
              "      <td>3.094984e+07</td>\n",
              "    </tr>\n",
              "  </tbody>\n",
              "</table>\n",
              "<p>5 rows × 280 columns</p>\n",
              "</div>"
            ],
            "text/plain": [
              "   avgAnnCount  avgDeathsPerYear  ...   BirthRate-8   BirthRate-9\n",
              "0       1397.0               469  ...  1.964933e+06  1.202309e+07\n",
              "1        173.0                70  ...  1.242757e+05  5.384984e+05\n",
              "2        102.0                50  ...  3.742773e+04  1.395863e+05\n",
              "3        427.0               202  ...  2.018191e+05  9.291432e+05\n",
              "4         57.0                26  ...  4.553685e+06  3.094984e+07\n",
              "\n",
              "[5 rows x 280 columns]"
            ]
          },
          "metadata": {
            "tags": []
          },
          "execution_count": 3
        }
      ]
    },
    {
      "cell_type": "code",
      "metadata": {
        "id": "zb87vy8MC28y",
        "colab": {
          "base_uri": "https://localhost:8080/"
        },
        "outputId": "3ba2a023-4f0d-4e95-dce0-581f97f54b89"
      },
      "source": [
        "print('Number of Data Points: ', data.shape[0])\n",
        "print('Number of Features: ', data.shape[1])"
      ],
      "execution_count": null,
      "outputs": [
        {
          "output_type": "stream",
          "text": [
            "Number of Data Points:  3047\n",
            "Number of Features:  280\n"
          ],
          "name": "stdout"
        }
      ]
    },
    {
      "cell_type": "markdown",
      "metadata": {
        "id": "RI7gz7x711wj"
      },
      "source": [
        "---\n",
        "---\n",
        "---\n",
        "---\n",
        "---"
      ]
    },
    {
      "cell_type": "markdown",
      "metadata": {
        "id": "ae7abCxjC28y"
      },
      "source": [
        "## **Data Preprocessing**"
      ]
    },
    {
      "cell_type": "code",
      "metadata": {
        "id": "4RxAhhdQC28y",
        "colab": {
          "base_uri": "https://localhost:8080/"
        },
        "outputId": "7381fed2-fe2f-49a0-9809-9a522dcc5e2a"
      },
      "source": [
        "# Deal with NaN values\n",
        "# We can replace NaN values with the mean value of each feature (We will use this)\n",
        "# We can also drop the columns with high percentage of NaN values\n",
        "# We can drop rows that contain NaN Values\n",
        "# We can use iterpolation techniques to fill the NaNs\n",
        "# Which one I should use ? I don't know, you have to experiemnt \n",
        "\n",
        "for col in data.columns:\n",
        "    if data[col].isna().sum() != 0:\n",
        "        print(f\"Col: {col}, Number of nan value: {data[col].isna().sum()}\")\n",
        "        data[col][data[col].isna()] = data[col].mean()"
      ],
      "execution_count": null,
      "outputs": [
        {
          "output_type": "stream",
          "text": [
            "Col: PctSomeCol18_24, Number of nan value: 2285\n",
            "Col: PctEmployed16_Over, Number of nan value: 152\n",
            "Col: PctPrivateCoverageAlone, Number of nan value: 609\n",
            "Col: PctSomeCol18_24-2, Number of nan value: 2285\n",
            "Col: PctSomeCol18_24-3, Number of nan value: 2285\n",
            "Col: PctSomeCol18_24-4, Number of nan value: 2285\n",
            "Col: PctSomeCol18_24-5, Number of nan value: 2285\n",
            "Col: PctSomeCol18_24-6, Number of nan value: 2285\n",
            "Col: PctSomeCol18_24-7, Number of nan value: 2285\n",
            "Col: PctSomeCol18_24-8, Number of nan value: 2285\n",
            "Col: PctSomeCol18_24-9, Number of nan value: 2285\n",
            "Col: PctEmployed16_Over-2, Number of nan value: 152\n",
            "Col: PctEmployed16_Over-3, Number of nan value: 152\n",
            "Col: PctEmployed16_Over-4, Number of nan value: 152\n",
            "Col: PctEmployed16_Over-5, Number of nan value: 152\n",
            "Col: PctEmployed16_Over-6, Number of nan value: 152\n",
            "Col: PctEmployed16_Over-7, Number of nan value: 152\n",
            "Col: PctEmployed16_Over-8, Number of nan value: 152\n",
            "Col: PctEmployed16_Over-9, Number of nan value: 152\n",
            "Col: PctPrivateCoverageAlone-2, Number of nan value: 609\n",
            "Col: PctPrivateCoverageAlone-3, Number of nan value: 609\n",
            "Col: PctPrivateCoverageAlone-4, Number of nan value: 609\n",
            "Col: PctPrivateCoverageAlone-5, Number of nan value: 609\n",
            "Col: PctPrivateCoverageAlone-6, Number of nan value: 609\n",
            "Col: PctPrivateCoverageAlone-7, Number of nan value: 609\n",
            "Col: PctPrivateCoverageAlone-8, Number of nan value: 609\n",
            "Col: PctPrivateCoverageAlone-9, Number of nan value: 609\n"
          ],
          "name": "stdout"
        },
        {
          "output_type": "stream",
          "text": [
            "/usr/local/lib/python3.7/dist-packages/ipykernel_launcher.py:11: SettingWithCopyWarning: \n",
            "A value is trying to be set on a copy of a slice from a DataFrame\n",
            "\n",
            "See the caveats in the documentation: https://pandas.pydata.org/pandas-docs/stable/user_guide/indexing.html#returning-a-view-versus-a-copy\n",
            "  # This is added back by InteractiveShellApp.init_path()\n"
          ],
          "name": "stderr"
        }
      ]
    },
    {
      "cell_type": "code",
      "metadata": {
        "id": "P3DORj4RC28z"
      },
      "source": [
        "# Train/Test Split with K fold cross validation \n",
        "y = data['TARGET_deathRate']\n",
        "X = data.drop(columns=['TARGET_deathRate'])"
      ],
      "execution_count": null,
      "outputs": []
    },
    {
      "cell_type": "code",
      "metadata": {
        "id": "yVhYt_wxhH9H"
      },
      "source": [
        "kf = KFold(n_splits=5, random_state= 42, shuffle=True) \n",
        "\n",
        "# KFold training helper function\n",
        "def KFold_train(model, X, Y, kf):\n",
        "    \n",
        "    scores = []\n",
        "\n",
        "    for train_index, val_index in kf.split(X): #we split the train to K-Folds\n",
        "        \n",
        "        x_train, x_val = X.loc[train_index], X.loc[val_index]\n",
        "        y_train, y_val = Y.loc[train_index], Y.loc[val_index]\n",
        "\n",
        "        # Normalize the features\n",
        "        mu = x_train.mean()\n",
        "        std = x_train.std()\n",
        "\n",
        "        x_train_norm = (x_train - mu) / std\n",
        "        x_val_norm = (x_val - mu) / std\n",
        "\n",
        "        # fit\n",
        "        model.fit(x_train_norm, y_train)\n",
        "\n",
        "        # evaluate\n",
        "        pred_y = model.predict(x_val_norm)\n",
        "\n",
        "        # compute the loss\n",
        "        scores.append(mean_squared_error(y_val, pred_y))\n",
        "    \n",
        "    return np.mean(np.array(scores))"
      ],
      "execution_count": null,
      "outputs": []
    },
    {
      "cell_type": "markdown",
      "metadata": {
        "id": "kMq4AJKu5_u9"
      },
      "source": [
        "---\n",
        "---\n",
        "---\n",
        "---\n",
        "---"
      ]
    },
    {
      "cell_type": "markdown",
      "metadata": {
        "id": "4JzEmyICkb51"
      },
      "source": [
        "##  **Fit a Linear Regression model on all the features**"
      ]
    },
    {
      "cell_type": "code",
      "metadata": {
        "id": "iZoFiWqxkcMp",
        "colab": {
          "base_uri": "https://localhost:8080/"
        },
        "outputId": "8ac5726c-26db-44ec-ac24-8137ef72f708"
      },
      "source": [
        "# Define the model ===> un regularized linear regression model\n",
        "model = linear_model.LinearRegression(fit_intercept=True)\n",
        "\n",
        "# Finding the model params ===> Basically solving OLS problem\n",
        "# using K-fold cross validation to estimate the perfromance (MSE)\n",
        "mean_mse = KFold_train(model, X, y, kf)\n",
        "\n",
        "print(' Mean MSE error of the model: ', mean_mse)"
      ],
      "execution_count": null,
      "outputs": [
        {
          "output_type": "stream",
          "text": [
            " Mean MSE error of the model:  9508998098727.594\n"
          ],
          "name": "stdout"
        }
      ]
    },
    {
      "cell_type": "code",
      "metadata": {
        "id": "P2JjyNdUlMIg",
        "colab": {
          "base_uri": "https://localhost:8080/"
        },
        "outputId": "e2456009-1aa0-42d8-df55-6925f288cab0"
      },
      "source": [
        "model.coef_"
      ],
      "execution_count": null,
      "outputs": [
        {
          "output_type": "execute_result",
          "data": {
            "text/plain": [
              "array([-1.37418623e+02,  1.63917545e+02,  4.49598942e+04, -5.66797398e+01,\n",
              "       -5.57802098e+01, -1.57787210e+03, -1.94659431e+01,  5.01488778e+02,\n",
              "       -1.82473216e+05,  2.12667682e+05, -1.31499348e+03,  1.74351844e+05,\n",
              "       -1.62782719e+02, -7.17968432e+02,  1.10258485e+03, -1.35555814e+01,\n",
              "       -1.98984108e+04,  1.11192148e+02,  2.12399219e+05, -5.94685251e+00,\n",
              "       -9.17143146e+03, -3.11822920e+04,  5.61521159e+03, -2.08419380e+04,\n",
              "        5.66216175e+02,  1.30396852e+04,  4.40612691e+01, -6.80737320e+00,\n",
              "       -3.98538657e+00, -6.14583588e+04, -1.57758564e+02,  2.57773357e+03,\n",
              "       -2.69990892e+04,  1.78375464e+05, -9.25877257e+05,  3.59255163e+06,\n",
              "       -8.61174094e+06,  1.05270363e+07, -4.70649792e+06, -2.02734533e+03,\n",
              "        1.42387201e+04, -4.25412857e+04,  7.26570240e+02, -1.82797488e-01,\n",
              "        1.47580062e-01,  4.83421110e-01, -2.56955289e-01, -3.64864327e+05,\n",
              "        1.53682743e+06, -4.54570252e+06,  9.54962927e+06, -1.34557327e+07,\n",
              "        1.19573433e+07, -6.03379009e+06,  1.31402638e+06,  1.00651362e+02,\n",
              "       -4.72912145e+01,  1.43201335e-01, -7.20412243e-01, -2.03394752e-01,\n",
              "       -5.97497613e-01, -9.74516501e-02,  3.05531669e-02,  1.32677308e+02,\n",
              "        2.04573178e+00, -1.42753595e-01, -1.00790064e-01,  7.07611664e-01,\n",
              "       -1.09033083e-01, -4.99791423e-01, -2.99722987e-02,  1.53852332e+04,\n",
              "       -7.16636680e+04,  2.04799554e+05, -3.84532757e+05,  4.76146348e+05,\n",
              "       -3.73861657e+05,  1.68381734e+05, -3.30778201e+04,  3.85741308e+02,\n",
              "       -4.10224678e+03,  2.28375794e+04, -7.08965963e+04,  1.26998951e+05,\n",
              "       -1.30181648e+05,  7.07956169e+04, -1.58183950e+04, -7.57810319e+03,\n",
              "        5.74349168e+04, -2.33884673e+05,  5.49786192e+05, -7.76400020e+05,\n",
              "        6.53840703e+05, -3.03696360e+05,  5.99927775e+04,  1.37082104e+06,\n",
              "       -4.55487684e+06,  8.71485545e+06, -1.04666293e+07,  8.04899829e+06,\n",
              "       -3.85006723e+06,  1.03832902e+06, -1.18950931e+05, -1.71695439e+06,\n",
              "        6.18574238e+06, -1.29684353e+07,  1.72888435e+07, -1.50033694e+07,\n",
              "        8.27836380e+06, -2.65697606e+06,  3.80106844e+05,  6.25441579e+04,\n",
              "       -5.17417218e+05,  1.92479243e+06, -3.98629120e+06,  4.95406093e+06,\n",
              "       -3.70292664e+06,  1.54350066e+06, -2.76822115e+05, -1.60524776e+06,\n",
              "        6.55236989e+06, -1.54136198e+07,  2.27888825e+07, -2.16480098e+07,\n",
              "        1.28909384e+07, -4.39750709e+06,  6.57850805e+05,  1.55328885e+03,\n",
              "       -7.57415023e+03,  2.33499280e+04, -4.74973430e+04,  6.28053562e+04,\n",
              "       -5.15664972e+04,  2.38146636e+04, -4.72501516e+03,  6.99827428e+03,\n",
              "       -3.14262546e+04,  8.41742492e+04, -1.46119113e+05,  1.67377855e+05,\n",
              "       -1.22880467e+05,  5.25885878e+04, -9.99680850e+03, -1.12084188e+04,\n",
              "        5.02930233e+04, -1.29629179e+05,  2.09713452e+05, -2.18076273e+05,\n",
              "        1.42526055e+05, -5.36433884e+04,  8.92331376e+03,  4.84821459e+01,\n",
              "        3.87471008e+02, -5.25362374e+03,  2.48875668e+04, -6.03055868e+04,\n",
              "        7.93443006e+04, -5.38240005e+04,  1.47283150e+04,  2.28543271e+05,\n",
              "       -1.15498141e+06,  3.33036517e+06, -5.97211226e+06,  6.80868787e+06,\n",
              "       -4.81557910e+06,  1.93103916e+06, -3.36064393e+05, -4.45713851e+02,\n",
              "       -3.70306980e+02,  6.12804386e+03, -1.83149398e+04,  2.87869835e+04,\n",
              "       -2.61906362e+04,  1.30627939e+04, -2.77334928e+03, -1.94737338e+06,\n",
              "        7.92016344e+06, -1.85901668e+07,  2.74796726e+07, -2.61606637e+07,\n",
              "        1.56527366e+07, -5.37990980e+06,  8.13146225e+05, -2.53166561e+02,\n",
              "        2.60870825e+03, -1.23320029e+04,  3.46813779e+04, -6.03188708e+04,\n",
              "        6.31485189e+04, -3.62876453e+04,  8.75985524e+03,  8.94054448e+04,\n",
              "       -3.61918431e+05,  7.83511903e+05, -9.60712535e+05,  6.27849314e+05,\n",
              "       -1.45816486e+05, -4.76098234e+04,  2.44585364e+04,  2.81163993e+05,\n",
              "       -1.12777475e+06,  2.61472162e+06, -3.81768590e+06,  3.58355367e+06,\n",
              "       -2.10645980e+06,  7.07313814e+05, -1.03651319e+05, -5.43448814e+04,\n",
              "        2.33200084e+05, -5.78517536e+05,  9.05436041e+05, -9.13419652e+05,\n",
              "        5.78937690e+05, -2.10482810e+05,  3.35787264e+04,  1.95208047e+05,\n",
              "       -8.25805758e+05,  2.04840470e+06, -3.24552245e+06,  3.35378496e+06,\n",
              "       -2.20239952e+06,  8.38689548e+05, -1.41525028e+05, -4.75962211e+03,\n",
              "        1.63177366e+04, -2.74985680e+04,  1.64742628e+04,  1.88722161e+04,\n",
              "       -4.15046520e+04,  2.89128301e+04, -7.37966300e+03, -1.77739924e+05,\n",
              "        1.04820799e+06, -3.44715221e+06,  6.89591810e+06, -8.59886505e+06,\n",
              "        6.53811476e+06, -2.77698288e+06,  5.05460173e+05, -5.07830711e+02,\n",
              "        3.80762576e+03, -1.82765172e+04,  5.39387675e+04, -9.69785848e+04,\n",
              "        1.03054038e+05, -5.92205695e+04,  1.41334812e+04,  1.65209287e+02,\n",
              "       -1.57987215e+03,  7.21693477e+03, -1.79201980e+04,  2.54329693e+04,\n",
              "       -2.05058585e+04,  8.67739198e+03, -1.48117956e+03, -6.58501556e+01,\n",
              "        1.05089626e+03, -7.43581832e+03,  2.75013756e+04, -5.67138181e+04,\n",
              "        6.57766058e+04, -4.01393700e+04,  1.00272946e+04,  5.69023956e+05,\n",
              "       -2.34429808e+06,  5.58627946e+06, -8.40213541e+06,  8.15947697e+06,\n",
              "       -4.99408093e+06,  1.76110974e+06, -2.73928244e+05,  1.88017475e+03,\n",
              "       -1.11050803e+04,  4.10364415e+04, -9.91918862e+04,  1.54676803e+05,\n",
              "       -1.48668506e+05,  7.96703038e+04, -1.81419901e+04])"
            ]
          },
          "metadata": {
            "tags": []
          },
          "execution_count": 9
        }
      ]
    },
    {
      "cell_type": "markdown",
      "metadata": {
        "id": "lIvUr58ZkiYH"
      },
      "source": [
        "---\n",
        "---\n",
        "---\n",
        "---\n",
        "---"
      ]
    },
    {
      "cell_type": "markdown",
      "metadata": {
        "id": "SS1WpSarC28z"
      },
      "source": [
        "##  **Fit a Linear Regression model with L1 regularization on all the features**"
      ]
    },
    {
      "cell_type": "code",
      "metadata": {
        "id": "wskd9pr3C28z",
        "colab": {
          "base_uri": "https://localhost:8080/"
        },
        "outputId": "4d8f3958-d0af-4409-a2a0-d3b353e6c2f1"
      },
      "source": [
        "# Define the model ===> Lasso is just linear regression + l1 reg (check the sklearn docs)\n",
        "model = linear_model.Lasso(alpha=0.1, fit_intercept=True, max_iter=5000)\n",
        "\n",
        "# Finding the model params ===> Basically solving the objective (1 / (2 * n_samples)) * ||y - Xw||^2_2 + alpha * ||w||_1\n",
        "# using K-fold cross validation to estimate the perfromance (MSE)\n",
        "mean_mse = KFold_train(model, X, y, kf)\n",
        "\n",
        "print(' Mean MSE error of the model: ', mean_mse)"
      ],
      "execution_count": null,
      "outputs": [
        {
          "output_type": "stream",
          "text": [
            " Mean MSE error of the model:  497.6300219562386\n"
          ],
          "name": "stdout"
        }
      ]
    },
    {
      "cell_type": "markdown",
      "metadata": {
        "id": "EhxO6896_UI9"
      },
      "source": [
        "---\n",
        "---\n",
        "---\n",
        "---\n",
        "---"
      ]
    },
    {
      "cell_type": "markdown",
      "metadata": {
        "id": "0wz3lb1h-p20"
      },
      "source": [
        "let's see how many features are actually used by the L1 regularized model"
      ]
    },
    {
      "cell_type": "code",
      "metadata": {
        "id": "koSLVZf47c9j",
        "colab": {
          "base_uri": "https://localhost:8080/"
        },
        "outputId": "3d49a3dc-d551-4e19-d317-990b4e8fc5fd"
      },
      "source": [
        "# to do print the model parameters (Hint: use model.coef_) and see how many of them are larger than 0.1 (in absolute value)\n",
        "\n",
        "# Your code here\n",
        "model.coef_"
      ],
      "execution_count": null,
      "outputs": [
        {
          "output_type": "execute_result",
          "data": {
            "text/plain": [
              "array([-3.48248967,  2.74980146, 12.07113989, -0.79985978, -0.        ,\n",
              "        1.16871976, -0.16895674, -0.        , -0.        , -0.        ,\n",
              "        1.09178898,  5.13280968, -1.22080866,  0.        ,  0.        ,\n",
              "       -0.61676839,  4.89059261, -4.78284767, -4.17443331,  1.05011334,\n",
              "       -0.        ,  0.        ,  1.06174266, -2.32534802, -0.        ,\n",
              "       -2.89499016,  0.        , -0.26014021, -5.53798468, -5.51072037,\n",
              "       -0.10049937,  0.        ,  0.        ,  0.        ,  0.        ,\n",
              "        0.        ,  0.        ,  0.        ,  0.        ,  0.        ,\n",
              "        0.3372846 ,  0.        , -0.        ,  0.03424299,  0.20428046,\n",
              "        0.48960655, -0.03426092,  0.        , -0.        , -3.76866244,\n",
              "       -0.        , -0.        ,  0.        ,  0.        ,  3.05326996,\n",
              "        0.        ,  1.53171224, -0.13695204, -0.40008402, -0.        ,\n",
              "       -0.35539249,  0.11234668,  0.        ,  0.        , -0.        ,\n",
              "       -0.1282212 , -0.36247671,  0.47815652, -0.07560502, -0.37123376,\n",
              "       -0.        ,  0.        ,  0.        , -0.        ,  0.        ,\n",
              "        0.        ,  0.        ,  0.        ,  0.75032328, -0.        ,\n",
              "       -0.        , -0.        , -0.        ,  0.        ,  0.        ,\n",
              "        0.        ,  0.22931601,  0.        ,  0.        ,  0.        ,\n",
              "        0.        ,  0.        ,  0.        ,  0.23009431,  0.105589  ,\n",
              "       -0.        , -0.29940273, -0.50288309, -0.        , -0.        ,\n",
              "       -0.        , -0.        , -0.        , -0.        , -0.        ,\n",
              "       -0.87977603, -2.19307671, -0.        , -0.        , -0.        ,\n",
              "       -0.        ,  0.        , -0.        , -0.        , -1.86128551,\n",
              "       -0.        , -0.        , -0.        , -0.        ,  0.53188121,\n",
              "        0.        ,  0.        ,  0.        ,  0.        , -0.        ,\n",
              "       -0.        , -1.2167303 , -0.        ,  0.        ,  0.        ,\n",
              "        0.24886747,  0.        ,  0.        ,  0.        ,  0.        ,\n",
              "        0.        ,  2.26960888,  0.        ,  0.        ,  0.        ,\n",
              "        0.        , -0.        , -1.22617627,  0.78139266,  0.        ,\n",
              "        0.        ,  0.        ,  0.        , -0.        , -0.        ,\n",
              "       -1.23509865,  0.        ,  0.        ,  0.        ,  0.        ,\n",
              "        0.        ,  0.        ,  0.        ,  1.16398889,  0.        ,\n",
              "        0.        ,  0.        ,  0.        ,  0.        , -0.        ,\n",
              "       -0.        , -1.60036032,  0.        ,  0.        ,  0.        ,\n",
              "        0.        ,  0.        , -0.        , -0.        , -0.66634743,\n",
              "       -0.        , -0.        , -0.        , -0.        , -0.        ,\n",
              "        0.        ,  0.        ,  1.04277436,  0.        ,  0.        ,\n",
              "        0.        , -0.        , -0.        , -0.        , -0.        ,\n",
              "       -0.25308652, -0.        , -1.07619222, -4.36077728, -0.        ,\n",
              "       -0.        , -0.        ,  0.        ,  0.        ,  0.        ,\n",
              "        0.        ,  0.        ,  0.        ,  0.        ,  0.        ,\n",
              "        0.        ,  0.        ,  0.        ,  0.        ,  0.        ,\n",
              "        0.        ,  0.        ,  0.        ,  0.        ,  0.89297207,\n",
              "       -0.        ,  0.        ,  0.        ,  1.16058013,  0.        ,\n",
              "        0.        ,  0.        , -0.        ,  0.        ,  0.        ,\n",
              "        1.58978343,  0.        ,  0.        , -0.        , -0.        ,\n",
              "       -0.71140492, -0.        , -0.        , -0.        , -0.        ,\n",
              "       -0.        , -0.        ,  0.        ,  0.        , -1.46195648,\n",
              "       -0.        ,  0.        ,  0.        ,  0.        ,  0.        ,\n",
              "       -0.        , -0.73299327, -0.        , -0.        ,  0.        ,\n",
              "        0.        , -0.        , -0.        , -0.        , -0.01807304,\n",
              "        2.19243961,  0.        ,  0.        ,  0.        ,  0.        ,\n",
              "        0.        ,  0.        ,  0.        , -0.        ,  0.        ,\n",
              "        0.        ,  0.        ,  0.        ,  0.16072877,  0.        ,\n",
              "        0.        , -1.03482669, -0.        , -0.        ,  0.        ,\n",
              "        0.        ,  0.        ,  0.        ,  0.6817928 ])"
            ]
          },
          "metadata": {
            "tags": []
          },
          "execution_count": 11
        }
      ]
    },
    {
      "cell_type": "markdown",
      "metadata": {
        "id": "4_MCjhnY_07N"
      },
      "source": [
        "---\n",
        "---\n",
        "---\n",
        "---\n",
        "---"
      ]
    },
    {
      "cell_type": "markdown",
      "metadata": {
        "id": "RNisGNejAP_c"
      },
      "source": [
        "### **Feature selection with Filter method**\n",
        "\n",
        "\n",
        "\n",
        "*   Calculate the mutual information score between each feature column and the target column (use: mutual_info_regression from sklearn)\n",
        "Bonus: if you implemented it yourself.\n",
        "\n",
        "*   Now it's up to you to decide how to proceed:\n",
        "\n",
        "*    you can take the top k features based on MI.   \n",
        "\n",
        "*    you can choose the features that above a specified threshold based on MI scores.\n",
        "\n",
        "*    you can do further feature selection by doing wrapper methods on top of the k selected features.\n",
        "\n",
        "**TASK: Train a linear model on your selected set of features and compute the performance, compare your results with the L1 regularized model above.**\n",
        "\n",
        "P.S: I got a Mean MSE error of a model = 599.05 with training on only 2 features.\n",
        "\n"
      ]
    },
    {
      "cell_type": "code",
      "metadata": {
        "id": "zh3NWrQdmxYL"
      },
      "source": [
        ""
      ],
      "execution_count": null,
      "outputs": []
    },
    {
      "cell_type": "code",
      "metadata": {
        "id": "p2AE5VAfkFzB"
      },
      "source": [
        "from sklearn import feature_selection\n",
        "res=feature_selection.mutual_info_regression(X,y,n_neighbors=5)"
      ],
      "execution_count": null,
      "outputs": []
    },
    {
      "cell_type": "code",
      "metadata": {
        "colab": {
          "base_uri": "https://localhost:8080/"
        },
        "id": "O0Y2vpO5kQBy",
        "outputId": "56ea3837-42d3-472c-850c-24c59804ad34"
      },
      "source": [
        "len(res)"
      ],
      "execution_count": null,
      "outputs": [
        {
          "output_type": "execute_result",
          "data": {
            "text/plain": [
              "279"
            ]
          },
          "metadata": {
            "tags": []
          },
          "execution_count": 68
        }
      ]
    },
    {
      "cell_type": "code",
      "metadata": {
        "colab": {
          "base_uri": "https://localhost:8080/"
        },
        "id": "Fzv3QyXDmK6k",
        "outputId": "cd2a89f4-760e-4b03-e43d-44d66cd268fe"
      },
      "source": [
        "res.std() + res.mean()"
      ],
      "execution_count": null,
      "outputs": [
        {
          "output_type": "execute_result",
          "data": {
            "text/plain": [
              "0.11583104328493629"
            ]
          },
          "metadata": {
            "tags": []
          },
          "execution_count": 69
        }
      ]
    },
    {
      "cell_type": "code",
      "metadata": {
        "colab": {
          "base_uri": "https://localhost:8080/"
        },
        "id": "1vwnBTallgaE",
        "outputId": "10848935-77c5-42a9-fd5e-171305c4f61c"
      },
      "source": [
        "res.mean()"
      ],
      "execution_count": null,
      "outputs": [
        {
          "output_type": "execute_result",
          "data": {
            "text/plain": [
              "0.06279997773688753"
            ]
          },
          "metadata": {
            "tags": []
          },
          "execution_count": 30
        }
      ]
    },
    {
      "cell_type": "code",
      "metadata": {
        "id": "MAqUzWRMkifZ"
      },
      "source": [
        "feats=X.columns[np.where(res >0.115)]"
      ],
      "execution_count": null,
      "outputs": []
    },
    {
      "cell_type": "code",
      "metadata": {
        "colab": {
          "base_uri": "https://localhost:8080/"
        },
        "id": "6VK6M0tTk3Ps",
        "outputId": "60c2aa9e-777b-4e18-b517-9816cbd511be"
      },
      "source": [
        "#len(%cd)"
      ],
      "execution_count": null,
      "outputs": [
        {
          "output_type": "execute_result",
          "data": {
            "text/plain": [
              "112"
            ]
          },
          "metadata": {
            "tags": []
          },
          "execution_count": 34
        }
      ]
    },
    {
      "cell_type": "code",
      "metadata": {
        "id": "oAPhKiDIlYZS"
      },
      "source": [
        "df=X[feats]"
      ],
      "execution_count": null,
      "outputs": []
    },
    {
      "cell_type": "code",
      "metadata": {
        "colab": {
          "base_uri": "https://localhost:8080/"
        },
        "id": "JEs_eAL7lvdc",
        "outputId": "b960b8c8-394e-498b-d611-5df4a0d6f25c"
      },
      "source": [
        "df.shape"
      ],
      "execution_count": null,
      "outputs": [
        {
          "output_type": "execute_result",
          "data": {
            "text/plain": [
              "(3047, 64)"
            ]
          },
          "metadata": {
            "tags": []
          },
          "execution_count": 72
        }
      ]
    },
    {
      "cell_type": "code",
      "metadata": {
        "id": "QqIGorB6l260"
      },
      "source": [
        "X=df"
      ],
      "execution_count": null,
      "outputs": []
    },
    {
      "cell_type": "code",
      "metadata": {
        "colab": {
          "base_uri": "https://localhost:8080/"
        },
        "id": "jrsxAcTamB4A",
        "outputId": "a4e40936-021f-4358-d19b-830712adb339"
      },
      "source": [
        "# Define the model ===> Lasso is just linear regression + l1 reg (check the sklearn docs)\n",
        "model = linear_model.Lasso(alpha=1, fit_intercept=True, max_iter=10000)\n",
        "\n",
        "# Finding the model params ===> Basically solving the objective (1 / (2 * n_samples)) * ||y - Xw||^2_2 + alpha * ||w||_1\n",
        "# using K-fold cross validation to estimate the perfromance (MSE)\n",
        "mean_mse = KFold_train(model, X, y, kf)\n",
        "\n",
        "print(' Mean MSE error of the model: ', mean_mse)"
      ],
      "execution_count": null,
      "outputs": [
        {
          "output_type": "stream",
          "text": [
            " Mean MSE error of the model:  418.55126494766347\n"
          ],
          "name": "stdout"
        }
      ]
    },
    {
      "cell_type": "code",
      "metadata": {
        "colab": {
          "base_uri": "https://localhost:8080/"
        },
        "id": "ziNOBO-SmGry",
        "outputId": "7d86a617-64e0-42d0-8dd3-2a3cd62aca95"
      },
      "source": [
        "X.columns"
      ],
      "execution_count": null,
      "outputs": [
        {
          "output_type": "execute_result",
          "data": {
            "text/plain": [
              "Index(['avgAnnCount', 'incidenceRate', 'medIncome', 'povertyPercent',\n",
              "       'PctHS25_Over', 'PctBachDeg25_Over', 'PctEmployed16_Over',\n",
              "       'PctPrivateCoverage', 'PctPublicCoverage', 'PctPublicCoverageAlone',\n",
              "       'incidenceRate-2', 'incidenceRate-3', 'incidenceRate-4',\n",
              "       'incidenceRate-5', 'incidenceRate-6', 'incidenceRate-7', 'medIncome-2',\n",
              "       'medIncome-3', 'medIncome-4', 'povertyPercent-2', 'povertyPercent-3',\n",
              "       'povertyPercent-4', 'povertyPercent-5', 'povertyPercent-6',\n",
              "       'povertyPercent-7', 'PctHS25_Over-2', 'PctHS25_Over-3',\n",
              "       'PctHS25_Over-4', 'PctHS25_Over-5', 'PctHS25_Over-6', 'PctHS25_Over-7',\n",
              "       'PctHS25_Over-8', 'PctHS25_Over-9', 'PctBachDeg25_Over-2',\n",
              "       'PctBachDeg25_Over-3', 'PctBachDeg25_Over-4', 'PctBachDeg25_Over-5',\n",
              "       'PctBachDeg25_Over-6', 'PctBachDeg25_Over-7', 'PctBachDeg25_Over-8',\n",
              "       'PctEmployed16_Over-2', 'PctEmployed16_Over-3', 'PctEmployed16_Over-6',\n",
              "       'PctEmployed16_Over-7', 'PctEmployed16_Over-8', 'PctEmployed16_Over-9',\n",
              "       'PctPrivateCoverage-2', 'PctPrivateCoverage-3', 'PctPrivateCoverage-4',\n",
              "       'PctPrivateCoverage-5', 'PctPrivateCoverage-6', 'PctPrivateCoverage-7',\n",
              "       'PctPrivateCoverage-8', 'PctPrivateCoverage-9', 'PctPublicCoverage-2',\n",
              "       'PctPublicCoverage-3', 'PctPublicCoverageAlone-2',\n",
              "       'PctPublicCoverageAlone-3', 'PctPublicCoverageAlone-4',\n",
              "       'PctPublicCoverageAlone-5', 'PctPublicCoverageAlone-6',\n",
              "       'PctPublicCoverageAlone-7', 'PctPublicCoverageAlone-8',\n",
              "       'PctPublicCoverageAlone-9'],\n",
              "      dtype='object')"
            ]
          },
          "metadata": {
            "tags": []
          },
          "execution_count": 85
        }
      ]
    },
    {
      "cell_type": "code",
      "metadata": {
        "id": "sNP_qcInm52d"
      },
      "source": [
        ""
      ],
      "execution_count": null,
      "outputs": []
    }
  ]
}