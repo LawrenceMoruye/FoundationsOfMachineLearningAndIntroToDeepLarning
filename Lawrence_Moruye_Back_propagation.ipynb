{
  "nbformat": 4,
  "nbformat_minor": 0,
  "metadata": {
    "colab": {
      "name": "Lawrence_Moruye_Back_propagation.ipynb",
      "provenance": []
    },
    "kernelspec": {
      "name": "python3",
      "display_name": "Python 3"
    },
    "language_info": {
      "name": "python"
    }
  },
  "cells": [
    {
      "cell_type": "code",
      "metadata": {
        "colab": {
          "base_uri": "https://localhost:8080/"
        },
        "id": "J5BRWwkDc0so",
        "outputId": "a6b4e42f-aed3-4e6d-e6a2-b1a6632030a3"
      },
      "source": [
        "from google.colab import drive\n",
        "drive.mount(\"/content/drive\")"
      ],
      "execution_count": null,
      "outputs": [
        {
          "output_type": "stream",
          "text": [
            "Mounted at /content/drive\n"
          ],
          "name": "stdout"
        }
      ]
    },
    {
      "cell_type": "code",
      "metadata": {
        "colab": {
          "base_uri": "https://localhost:8080/"
        },
        "id": "00_9meeEdJ8Q",
        "outputId": "29b2616e-eb2c-404e-ef3d-92540cb9ac87"
      },
      "source": [
        "!ls"
      ],
      "execution_count": null,
      "outputs": [
        {
          "output_type": "stream",
          "text": [
            "drive  MNIST  MNIST.tar.gz  MNIST.tar.gz.1  sample_data\n"
          ],
          "name": "stdout"
        }
      ]
    },
    {
      "cell_type": "code",
      "metadata": {
        "colab": {
          "base_uri": "https://localhost:8080/"
        },
        "id": "NygYgpl_dZX1",
        "outputId": "ee2fbead-fb5f-45dd-f6bc-a11772b77442"
      },
      "source": [
        "cd .."
      ],
      "execution_count": null,
      "outputs": [
        {
          "output_type": "stream",
          "text": [
            "/\n"
          ],
          "name": "stdout"
        }
      ]
    },
    {
      "cell_type": "code",
      "metadata": {
        "colab": {
          "base_uri": "https://localhost:8080/"
        },
        "id": "jJAQSfOydZcA",
        "outputId": "9cf19558-ca7f-4f32-ac89-2ae20d406de1"
      },
      "source": [
        "!ls"
      ],
      "execution_count": null,
      "outputs": [
        {
          "output_type": "stream",
          "text": [
            "bin\t datalab  home\t lib64\topt   run   sys\t\t       tools\n",
            "boot\t dev\t  lib\t media\tproc  sbin  tensorflow-1.15.2  usr\n",
            "content  etc\t  lib32  mnt\troot  srv   tmp\t\t       var\n"
          ],
          "name": "stdout"
        }
      ]
    },
    {
      "cell_type": "code",
      "metadata": {
        "colab": {
          "base_uri": "https://localhost:8080/"
        },
        "id": "FDUs8jl_dZgc",
        "outputId": "479206c5-2537-4ae1-a250-bc586a5e1121"
      },
      "source": [
        "cd content/"
      ],
      "execution_count": null,
      "outputs": [
        {
          "output_type": "stream",
          "text": [
            "/content\n"
          ],
          "name": "stdout"
        }
      ]
    },
    {
      "cell_type": "code",
      "metadata": {
        "colab": {
          "base_uri": "https://localhost:8080/"
        },
        "id": "O2rveAJjdyXU",
        "outputId": "43ba67fa-c4c3-409c-f09a-8691c5ee8449"
      },
      "source": [
        "!ls"
      ],
      "execution_count": null,
      "outputs": [
        {
          "output_type": "stream",
          "text": [
            "drive  MNIST  MNIST.tar.gz  MNIST.tar.gz.1  sample_data\n"
          ],
          "name": "stdout"
        }
      ]
    },
    {
      "cell_type": "code",
      "metadata": {
        "colab": {
          "base_uri": "https://localhost:8080/"
        },
        "id": "U5eEBLb9dyea",
        "outputId": "412276be-debf-468b-f5d9-d12ab5bce6bf"
      },
      "source": [
        "cd /content/drive/MyDrive/AMMI_MNIST"
      ],
      "execution_count": null,
      "outputs": [
        {
          "output_type": "stream",
          "text": [
            "/content/drive/MyDrive/AMMI_MNIST\n"
          ],
          "name": "stdout"
        }
      ]
    },
    {
      "cell_type": "code",
      "metadata": {
        "colab": {
          "base_uri": "https://localhost:8080/"
        },
        "id": "TkTn_Y1ceEj-",
        "outputId": "c432fc2b-97fc-43b2-b687-26c155eeb5c1"
      },
      "source": [
        "!ls"
      ],
      "execution_count": null,
      "outputs": [
        {
          "output_type": "stream",
          "text": [
            "dlc_practical_prologue.py\n"
          ],
          "name": "stdout"
        }
      ]
    },
    {
      "cell_type": "code",
      "metadata": {
        "id": "llMAtZfQcFRE"
      },
      "source": [
        "from dlc_practical_prologue import *\n",
        "import torch\n",
        "import torchvision\n",
        "import matplotlib.pyplot as plt\n",
        "import torch.nn as nn\n",
        "from torchvision import datasets, transforms as transform\n"
      ],
      "execution_count": null,
      "outputs": []
    },
    {
      "cell_type": "code",
      "metadata": {
        "colab": {
          "base_uri": "https://localhost:8080/"
        },
        "id": "Y-kl0qpZcP2Y",
        "outputId": "f6c0883e-7f6c-40e0-8ad6-1a04b3c9f92e"
      },
      "source": [
        "!wget www.di.ens.fr/~lelarge/MNIST.tar.gz\n",
        "!tar -zxvf MNIST.tar.gz\n",
        "\n",
        "from torchvision.datasets import MNIST\n",
        "\n",
        "train_data = MNIST(root = './', train=True, download=True, transform=transform)\n",
        "val_data = MNIST(root = './', train=False, download=True, transform=transform)"
      ],
      "execution_count": null,
      "outputs": [
        {
          "output_type": "stream",
          "text": [
            "--2021-03-19 21:51:26--  http://www.di.ens.fr/~lelarge/MNIST.tar.gz\n",
            "Resolving www.di.ens.fr (www.di.ens.fr)... 129.199.99.14\n",
            "Connecting to www.di.ens.fr (www.di.ens.fr)|129.199.99.14|:80... connected.\n",
            "HTTP request sent, awaiting response... 302 Found\n",
            "Location: https://www.di.ens.fr/~lelarge/MNIST.tar.gz [following]\n",
            "--2021-03-19 21:51:26--  https://www.di.ens.fr/~lelarge/MNIST.tar.gz\n",
            "Connecting to www.di.ens.fr (www.di.ens.fr)|129.199.99.14|:443... connected.\n",
            "HTTP request sent, awaiting response... 200 OK\n",
            "Length: unspecified [application/x-gzip]\n",
            "Saving to: ‘MNIST.tar.gz’\n",
            "\n",
            "MNIST.tar.gz            [  <=>               ]  33.20M  2.71MB/s    in 13s     \n",
            "\n",
            "2021-03-19 21:51:40 (2.53 MB/s) - ‘MNIST.tar.gz’ saved [34813078]\n",
            "\n",
            "MNIST/\n",
            "MNIST/raw/\n",
            "MNIST/raw/train-labels-idx1-ubyte\n",
            "MNIST/raw/t10k-labels-idx1-ubyte.gz\n",
            "MNIST/raw/t10k-labels-idx1-ubyte\n",
            "MNIST/raw/t10k-images-idx3-ubyte.gz\n",
            "MNIST/raw/train-images-idx3-ubyte\n",
            "MNIST/raw/train-labels-idx1-ubyte.gz\n",
            "MNIST/raw/t10k-images-idx3-ubyte\n",
            "MNIST/raw/train-images-idx3-ubyte.gz\n",
            "MNIST/processed/\n",
            "MNIST/processed/training.pt\n",
            "MNIST/processed/test.pt\n"
          ],
          "name": "stdout"
        }
      ]
    },
    {
      "cell_type": "code",
      "metadata": {
        "colab": {
          "base_uri": "https://localhost:8080/"
        },
        "id": "DeAzavPGcS8E",
        "outputId": "7199e9a9-b7de-4d64-b42b-be71e4bc6603"
      },
      "source": [
        "train_input = train_data.data.view(-1, 1, 28, 28).float()\n",
        "train_target = train_data.targets\n",
        "test_input = val_data.data.view(-1, 1, 28, 28).float()\n",
        "test_target = val_data.targets\n",
        "\n",
        "train_input = train_input.clone().reshape(train_input.size(0), -1)\n",
        "test_input = test_input.clone().reshape(test_input.size(0), -1)\n",
        "\n",
        "train_input = train_input.narrow(0, 0, 500)\n",
        "train_target = train_target.narrow(0, 0, 500)\n",
        "test_input = test_input.narrow(0, 0, 100)\n",
        "test_target = test_target.narrow(0, 0, 100)\n",
        "\n",
        "train_target = convert_to_one_hot_labels(train_input, train_target)\n",
        "test_target = convert_to_one_hot_labels(test_input, test_target)\n",
        "\n",
        "mu, std = train_input.mean(), train_input.std()\n",
        "train_input.sub_(mu).div_(std)\n",
        "test_input.sub_(mu).div_(std)"
      ],
      "execution_count": null,
      "outputs": [
        {
          "output_type": "execute_result",
          "data": {
            "text/plain": [
              "tensor([[-0.4167, -0.4167, -0.4167,  ..., -0.4167, -0.4167, -0.4167],\n",
              "        [-0.4167, -0.4167, -0.4167,  ..., -0.4167, -0.4167, -0.4167],\n",
              "        [-0.4167, -0.4167, -0.4167,  ..., -0.4167, -0.4167, -0.4167],\n",
              "        ...,\n",
              "        [-0.4167, -0.4167, -0.4167,  ..., -0.4167, -0.4167, -0.4167],\n",
              "        [-0.4167, -0.4167, -0.4167,  ..., -0.4167, -0.4167, -0.4167],\n",
              "        [-0.4167, -0.4167, -0.4167,  ..., -0.4167, -0.4167, -0.4167]])"
            ]
          },
          "metadata": {
            "tags": []
          },
          "execution_count": 21
        }
      ]
    },
    {
      "cell_type": "code",
      "metadata": {
        "id": "sWVTjvOMitTl"
      },
      "source": [
        "train_target *= 0.9\n",
        "test_target *= 0.9 "
      ],
      "execution_count": null,
      "outputs": []
    },
    {
      "cell_type": "code",
      "metadata": {
        "colab": {
          "base_uri": "https://localhost:8080/"
        },
        "id": "p22F7n2ci0Tb",
        "outputId": "bb260700-6a17-41fd-b544-c34abd7d4dfa"
      },
      "source": [
        "test_target.shape"
      ],
      "execution_count": null,
      "outputs": [
        {
          "output_type": "execute_result",
          "data": {
            "text/plain": [
              "torch.Size([100, 10])"
            ]
          },
          "metadata": {
            "tags": []
          },
          "execution_count": 35
        }
      ]
    },
    {
      "cell_type": "code",
      "metadata": {
        "id": "tgMsY0gCcodA"
      },
      "source": [
        "class NeuralNet:\n",
        "  def __init__(self,input_size=784,\n",
        "               hidden_state=50,\n",
        "               output_size=10,\n",
        "               lr=0.1):\n",
        "    self.lr=lr\n",
        "    self.w1 = torch.Tensor(input_size, hidden_state).normal_(0, 1e-6)\n",
        "    self.b1 = torch.Tensor(1, hidden_state).normal_(0, 1e-6)\n",
        "    self.w2 = torch.Tensor(hidden_state,output_size).normal_(0, 1e-6)\n",
        "    self.b2 = torch.Tensor(1, output_size).normal_(0, 1e-6)\n",
        "\n",
        "  def sigma(self, x):\n",
        "      return torch.tanh(x)\n",
        "  def dsigma(self, x):\n",
        "    return 1 - torch.pow(torch.tanh(x), 2)\n",
        "  def loss(self, v, t):\n",
        "    return torch.sum(torch.pow(t - v, 2))\n",
        "  def dloss(self, v, t):\n",
        "    return 2.0 * (v - t)\n",
        "  \n",
        "  def forward_pass(self,x):\n",
        "    x0=x\n",
        "    s1=torch.mm(x0,self.w1) +self.b1\n",
        "    x1 = self.sigma(s1)\n",
        "    s2 = torch.mm(x1, self.w2) + self.b2\n",
        "    x2 = self.sigma(s2)\n",
        "    return x0, s1, x1, s2, x2\n",
        "\n",
        "  def backward_pass(self,t,x,s1,x1,s2,x2):\n",
        "    d = self.dloss(x2, t) * self.dsigma(s2)\n",
        "    dl_dw2 = torch.mm(d.t(), x1).t()\n",
        "    dl_db2 = d.mean(axis=0).unsqueeze(0)\n",
        "    dl_dw1 = torch.mm(x.t(), (d @ self.w2.t() * self.dsigma(s1)))\n",
        "    dl_db1 = (d @ self.w2.t() * self.dsigma(s1)).mean(axis=0).unsqueeze(0)\n",
        "\n",
        "    self.w1 = self.w1 - (self.lr * dl_dw1)/t.shape[0]\n",
        "    self.w2 = self.w2 - (self.lr * dl_dw2)/t.shape[0]\n",
        "    self.b1 = self.b1 - (self.lr * dl_db1)/t.shape[0]\n",
        "    self.b2 = self.b2 - (self.lr * dl_db2)/t.shape[0]\n",
        "\n",
        "  def train(self,X,y,iters=1000):\n",
        "    for i in range(iters):\n",
        "      x,s1,x1,s2,x2=self.forward_pass(X)\n",
        "      self.backward_pass(y,x,s1,x1,s2,x2)\n",
        "      if i%100==0:\n",
        "        print(f\"At iter:{i},\")\n",
        "        print(f\"loss ={self.loss(y,x2)} and\")\n",
        "        print(f\"error_rate = {(y.argmax(axis=1) != x2.argmax(axis=1)).sum().item()/y.shape[0]*100}%\\n\")\n",
        "\n"
      ],
      "execution_count": null,
      "outputs": []
    },
    {
      "cell_type": "code",
      "metadata": {
        "id": "Bd4nS4V7hO2y"
      },
      "source": [
        "model=NeuralNet()"
      ],
      "execution_count": null,
      "outputs": []
    },
    {
      "cell_type": "code",
      "metadata": {
        "colab": {
          "base_uri": "https://localhost:8080/"
        },
        "id": "1LU8Tr_whR6-",
        "outputId": "eb6b741e-9429-4fb4-bd0f-b491714fd19c"
      },
      "source": [
        "model.train(train_input,train_target)"
      ],
      "execution_count": null,
      "outputs": [
        {
          "output_type": "stream",
          "text": [
            "At iter:0,\n",
            "loss =405.0003356933594 and\n",
            "error_rate = 89.60000000000001%\n",
            "\n",
            "At iter:100,\n",
            "loss =146.4947509765625 and\n",
            "error_rate = 9.8%\n",
            "\n",
            "At iter:200,\n",
            "loss =74.14320373535156 and\n",
            "error_rate = 2.6%\n",
            "\n",
            "At iter:300,\n",
            "loss =38.056556701660156 and\n",
            "error_rate = 0.0%\n",
            "\n",
            "At iter:400,\n",
            "loss =30.661540985107422 and\n",
            "error_rate = 0.0%\n",
            "\n",
            "At iter:500,\n",
            "loss =30.256433486938477 and\n",
            "error_rate = 0.0%\n",
            "\n",
            "At iter:600,\n",
            "loss =18.09187889099121 and\n",
            "error_rate = 0.0%\n",
            "\n",
            "At iter:700,\n",
            "loss =18.30813980102539 and\n",
            "error_rate = 0.0%\n",
            "\n",
            "At iter:800,\n",
            "loss =9.801643371582031 and\n",
            "error_rate = 0.0%\n",
            "\n",
            "At iter:900,\n",
            "loss =10.203556060791016 and\n",
            "error_rate = 0.0%\n",
            "\n"
          ],
          "name": "stdout"
        }
      ]
    },
    {
      "cell_type": "code",
      "metadata": {
        "id": "ExyDOisXhXBN"
      },
      "source": [
        ""
      ],
      "execution_count": null,
      "outputs": []
    }
  ]
}